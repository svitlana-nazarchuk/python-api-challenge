{
 "cells": [
  {
   "cell_type": "markdown",
   "metadata": {},
   "source": [
    "# WeatherPy\n",
    "----\n",
    "\n",
    "#### Note\n",
    "* Instructions have been included for each segment. You do not have to follow them exactly, but they are included to help you think through the steps."
   ]
  },
  {
   "cell_type": "code",
   "execution_count": 263,
   "metadata": {
    "scrolled": true
   },
   "outputs": [],
   "source": [
    "# Dependencies and Setup\n",
    "import matplotlib.pyplot as plt\n",
    "import pandas as pd\n",
    "import numpy as np\n",
    "import requests\n",
    "import time\n",
    "from scipy.stats import linregress\n",
    "from pprint import pprint\n",
    "import os\n",
    "\n",
    "# Import API key\n",
    "from api_keys import weather_api_key\n",
    "\n",
    "# Incorporated citipy to determine city based on latitude and longitude\n",
    "from citipy import citipy\n",
    "\n",
    "# Output File (CSV)\n",
    "output_data_file = \"output_data/cities.csv\"\n",
    "\n",
    "# Range of latitudes and longitudes\n",
    "lat_range = (-90, 90)\n",
    "lng_range = (-180, 180)"
   ]
  },
  {
   "cell_type": "markdown",
   "metadata": {},
   "source": [
    "## Generate Cities List"
   ]
  },
  {
   "cell_type": "code",
   "execution_count": 264,
   "metadata": {},
   "outputs": [
    {
     "data": {
      "text/plain": [
       "627"
      ]
     },
     "execution_count": 264,
     "metadata": {},
     "output_type": "execute_result"
    }
   ],
   "source": [
    "# List for holding lat_lngs and cities\n",
    "lat_lngs = []\n",
    "cities = []\n",
    "\n",
    "# Create a set of random lat and lng combinations\n",
    "lats = np.random.uniform(low=-90.000, high=90.000, size=1500)\n",
    "lngs = np.random.uniform(low=-180.000, high=180.000, size=1500)\n",
    "lat_lngs = zip(lats, lngs)\n",
    "\n",
    "\n",
    "# Identify nearest city for each lat, lng combination\n",
    "for lat_lng in lat_lngs:\n",
    "    city = citipy.nearest_city(lat_lng[0], lat_lng[1]).city_name\n",
    "    \n",
    "    # If the city is unique, then add it to a our cities list\n",
    "    if city not in cities:\n",
    "        cities.append(city)\n",
    "\n",
    "# Print the city count to confirm sufficient count\n",
    "len(cities)\n"
   ]
  },
  {
   "cell_type": "markdown",
   "metadata": {},
   "source": [
    "### Perform API Calls\n",
    "* Perform a weather check on each city using a series of successive API calls.\n",
    "* Include a print log of each city as it'sbeing processed (with the city number and city name).\n"
   ]
  },
  {
   "cell_type": "code",
   "execution_count": 265,
   "metadata": {},
   "outputs": [
    {
     "name": "stdout",
     "output_type": "stream",
     "text": [
      "13\n",
      "Beginning Data Retrieval\n",
      "-------------------------\n",
      "Processing Record 0 of Set 1 | takoradi \n",
      "Processing Record 1 of Set 1 | new norfolk \n",
      "Processing Record 2 of Set 1 | monte alegre \n",
      "Processing Record 3 of Set 1 | airai \n",
      "Processing Record 4 of Set 1 | seguin \n",
      "Processing Record 5 of Set 1 | castro \n",
      "Processing Record 6 of Set 1 | te anau \n",
      "Processing Record 7 of Set 1 | cape town \n",
      "Processing Record 8 of Set 1 | carauari \n",
      "Processing Record 9 of Set 1 | kurlovo \n",
      "Processing Record 10 of Set 1 | saskylakh \n",
      "Processing Record 11 of Set 1 | carnarvon \n",
      "Processing Record 12 of Set 1 | port alfred \n",
      "Processing Record 13 of Set 1 | ushuaia \n",
      "Processing Record 14 of Set 1 | busselton \n",
      "Processing Record 15 of Set 1 | revelstoke \n",
      "Processing Record 16 of Set 1 | vardo \n",
      "Processing Record 17 of Set 1 | vaini \n",
      "Processing Record 18 of Set 1 | rikitea \n",
      "Processing Record 19 of Set 1 | bekhtery \n",
      "Processing Record 20 of Set 1 | manoel urbano \n",
      "Processing Record 21 of Set 1 | mataura \n",
      "Processing Record 22 of Set 1 | capelinha \n",
      "Processing Record 23 of Set 1 | yellowknife \n",
      "Processing Record 24 of Set 1 | barrow \n",
      "Processing Record 25 of Set 1 | urdoma \n",
      "Processing Record 26 of Set 1 | kapaa \n",
      "Processing Record 27 of Set 1 | florianopolis \n",
      "Processing Record 28 of Set 1 | punta arenas \n",
      "Processing Record 29 of Set 1 | katsuura \n",
      "Processing Record 30 of Set 1 | arraial do cabo \n",
      "Processing Record 31 of Set 1 | georgetown \n",
      "Processing Record 32 of Set 1 | avarua \n",
      "Processing Record 33 of Set 1 | nanortalik \n",
      "Processing Record 34 of Set 1 | albany \n",
      "Processing Record 35 of Set 1 | tiksi \n",
      "Processing Record 36 of Set 1 | pevek \n",
      "Processing Record 37 of Set 1 | sao filipe \n",
      "Processing Record 38 of Set 1 | junqueiro \n",
      "Processing Record 39 of Set 1 | belushya guba \n",
      "City not found. Skipping...\n",
      "Processing Record 40 of Set 1 | salym \n",
      "Processing Record 41 of Set 1 | virginia beach \n",
      "Processing Record 42 of Set 1 | bambous virieux \n",
      "Processing Record 43 of Set 1 | vilhena \n",
      "Processing Record 44 of Set 1 | mudanjiang \n",
      "Processing Record 45 of Set 1 | dire \n",
      "Processing Record 46 of Set 1 | saldanha \n",
      "Processing Record 47 of Set 1 | bredasdorp \n",
      "Processing Record 48 of Set 1 | nizhneyansk \n",
      "City not found. Skipping...\n",
      "Processing Record 49 of Set 1 | vaitupu \n",
      "City not found. Skipping...\n",
      "Processing Record 0 of Set 2 | taolanaro \n",
      "City not found. Skipping...\n",
      "Processing Record 1 of Set 2 | santa ines \n",
      "Processing Record 2 of Set 2 | torbay \n",
      "Processing Record 3 of Set 2 | labuhan \n",
      "Processing Record 4 of Set 2 | san quintin \n",
      "Processing Record 5 of Set 2 | marystown \n",
      "Processing Record 6 of Set 2 | chapais \n",
      "Processing Record 7 of Set 2 | hilo \n",
      "Processing Record 8 of Set 2 | sazonovo \n",
      "Processing Record 9 of Set 2 | show low \n",
      "Processing Record 10 of Set 2 | longyearbyen \n",
      "Processing Record 11 of Set 2 | padang \n",
      "Processing Record 12 of Set 2 | hermanus \n",
      "Processing Record 13 of Set 2 | pemba \n",
      "Processing Record 14 of Set 2 | mahebourg \n",
      "Processing Record 15 of Set 2 | thabazimbi \n",
      "Processing Record 16 of Set 2 | chuy \n",
      "Processing Record 17 of Set 2 | hobart \n",
      "Processing Record 18 of Set 2 | yen bai \n",
      "Processing Record 19 of Set 2 | puerto ayora \n",
      "Processing Record 20 of Set 2 | samusu \n",
      "City not found. Skipping...\n",
      "Processing Record 21 of Set 2 | pisco \n",
      "Processing Record 22 of Set 2 | gimli \n",
      "Processing Record 23 of Set 2 | cherskiy \n",
      "Processing Record 24 of Set 2 | jamestown \n",
      "Processing Record 25 of Set 2 | petropavlovsk-kamchatskiy \n",
      "Processing Record 26 of Set 2 | vao \n",
      "Processing Record 27 of Set 2 | lagoa \n",
      "Processing Record 28 of Set 2 | jasper \n",
      "Processing Record 29 of Set 2 | atuona \n",
      "Processing Record 30 of Set 2 | broken hill \n",
      "Processing Record 31 of Set 2 | zyryanka \n",
      "Processing Record 32 of Set 2 | launceston \n",
      "Processing Record 33 of Set 2 | srednekolymsk \n",
      "Processing Record 34 of Set 2 | barentsburg \n",
      "City not found. Skipping...\n",
      "Processing Record 35 of Set 2 | port elizabeth \n",
      "Processing Record 36 of Set 2 | goderich \n",
      "Processing Record 37 of Set 2 | west wendover \n",
      "Processing Record 38 of Set 2 | murgab \n",
      "Processing Record 39 of Set 2 | ranot \n",
      "Processing Record 40 of Set 2 | attawapiskat \n",
      "City not found. Skipping...\n",
      "Processing Record 41 of Set 2 | east london \n",
      "Processing Record 42 of Set 2 | nikolskoye \n",
      "Processing Record 43 of Set 2 | chokurdakh \n",
      "Processing Record 44 of Set 2 | mys shmidta \n",
      "City not found. Skipping...\n",
      "Processing Record 45 of Set 2 | lashio \n",
      "Processing Record 46 of Set 2 | nioro \n",
      "Processing Record 47 of Set 2 | baindur \n",
      "Processing Record 48 of Set 2 | ewa beach \n",
      "Processing Record 49 of Set 2 | dvorichna \n",
      "Processing Record 0 of Set 3 | rocha \n",
      "Processing Record 1 of Set 3 | iquitos \n",
      "Processing Record 2 of Set 3 | lugovskiy \n",
      "City not found. Skipping...\n",
      "Processing Record 3 of Set 3 | luxor \n",
      "Processing Record 4 of Set 3 | warqla \n",
      "City not found. Skipping...\n",
      "Processing Record 5 of Set 3 | dingle \n",
      "Processing Record 6 of Set 3 | tungkang \n",
      "City not found. Skipping...\n",
      "Processing Record 7 of Set 3 | tual \n",
      "Processing Record 8 of Set 3 | laguna \n",
      "Processing Record 9 of Set 3 | alofi \n",
      "Processing Record 10 of Set 3 | tsihombe \n",
      "City not found. Skipping...\n",
      "Processing Record 11 of Set 3 | acarau \n",
      "City not found. Skipping...\n",
      "Processing Record 12 of Set 3 | ancud \n",
      "Processing Record 13 of Set 3 | sitka \n",
      "Processing Record 14 of Set 3 | oktyabrskoye \n",
      "Processing Record 15 of Set 3 | bokspits \n",
      "City not found. Skipping...\n",
      "Processing Record 16 of Set 3 | bolungarvik \n",
      "City not found. Skipping...\n",
      "Processing Record 17 of Set 3 | erdaojiang \n",
      "Processing Record 18 of Set 3 | thompson \n",
      "Processing Record 19 of Set 3 | liberty \n",
      "Processing Record 20 of Set 3 | sao jose \n",
      "Processing Record 21 of Set 3 | cumberland \n",
      "Processing Record 22 of Set 3 | san patricio \n",
      "Processing Record 23 of Set 3 | saint george \n",
      "Processing Record 24 of Set 3 | sao felix do xingu \n",
      "Processing Record 25 of Set 3 | irbeyskoye \n",
      "Processing Record 26 of Set 3 | cabo san lucas \n",
      "Processing Record 27 of Set 3 | illoqqortoormiut \n",
      "City not found. Skipping...\n",
      "Processing Record 28 of Set 3 | hare bay \n",
      "Processing Record 29 of Set 3 | ponta do sol \n",
      "Processing Record 30 of Set 3 | vestmannaeyjar \n",
      "Processing Record 31 of Set 3 | agadez \n",
      "Processing Record 32 of Set 3 | nelson bay \n",
      "Processing Record 33 of Set 3 | tambul \n",
      "City not found. Skipping...\n",
      "Processing Record 34 of Set 3 | latehar \n",
      "Processing Record 35 of Set 3 | palabuhanratu \n",
      "City not found. Skipping...\n",
      "Processing Record 36 of Set 3 | sambava \n",
      "Processing Record 37 of Set 3 | buraydah \n",
      "Processing Record 38 of Set 3 | ilulissat \n",
      "Processing Record 39 of Set 3 | tsabong \n",
      "Processing Record 40 of Set 3 | yulara \n",
      "Processing Record 41 of Set 3 | kloulklubed \n",
      "Processing Record 42 of Set 3 | bilibino \n",
      "Processing Record 43 of Set 3 | ballina \n",
      "Processing Record 44 of Set 3 | clyde river \n",
      "Processing Record 45 of Set 3 | talnakh \n",
      "Processing Record 46 of Set 3 | victoria \n",
      "Processing Record 47 of Set 3 | mergui \n",
      "City not found. Skipping...\n",
      "Processing Record 48 of Set 3 | farafangana \n",
      "Processing Record 49 of Set 3 | kushmurun \n",
      "City not found. Skipping...\n",
      "Processing Record 0 of Set 4 | rio gallegos \n",
      "Processing Record 1 of Set 4 | belyy yar \n",
      "Processing Record 2 of Set 4 | sobolevo \n",
      "Processing Record 3 of Set 4 | adrar \n",
      "Processing Record 4 of Set 4 | upernavik \n",
      "Processing Record 5 of Set 4 | hithadhoo \n",
      "Processing Record 6 of Set 4 | markovo \n",
      "Processing Record 7 of Set 4 | hanna \n",
      "Processing Record 8 of Set 4 | plymouth \n",
      "Processing Record 9 of Set 4 | awbari \n",
      "Processing Record 10 of Set 4 | saleaula \n",
      "City not found. Skipping...\n",
      "Processing Record 11 of Set 4 | stoyba \n",
      "City not found. Skipping...\n",
      "Processing Record 12 of Set 4 | tasiilaq \n",
      "Processing Record 13 of Set 4 | maneadero \n",
      "City not found. Skipping...\n",
      "Processing Record 14 of Set 4 | thinadhoo \n",
      "Processing Record 15 of Set 4 | kavieng \n",
      "Processing Record 16 of Set 4 | bluff \n",
      "Processing Record 17 of Set 4 | jiayuguan \n",
      "Processing Record 18 of Set 4 | nedjo \n",
      "Processing Record 19 of Set 4 | beringovskiy \n",
      "Processing Record 20 of Set 4 | boffa \n",
      "Processing Record 21 of Set 4 | mar del plata \n",
      "Processing Record 22 of Set 4 | lebu \n",
      "Processing Record 23 of Set 4 | rawson \n",
      "Processing Record 24 of Set 4 | sofiysk \n",
      "City not found. Skipping...\n",
      "Processing Record 25 of Set 4 | gravdal \n",
      "Processing Record 26 of Set 4 | bethel \n",
      "Processing Record 27 of Set 4 | luanda \n"
     ]
    },
    {
     "name": "stdout",
     "output_type": "stream",
     "text": [
      "Processing Record 28 of Set 4 | nueva loja \n",
      "Processing Record 29 of Set 4 | bengkulu \n",
      "City not found. Skipping...\n",
      "Processing Record 30 of Set 4 | mezen \n",
      "Processing Record 31 of Set 4 | komsomolskiy \n",
      "Processing Record 32 of Set 4 | toamasina \n",
      "Processing Record 33 of Set 4 | gondanglegi \n",
      "Processing Record 34 of Set 4 | viedma \n",
      "Processing Record 35 of Set 4 | suntar \n",
      "Processing Record 36 of Set 4 | makakilo city \n",
      "Processing Record 37 of Set 4 | geraldton \n",
      "Processing Record 38 of Set 4 | puerto escondido \n",
      "Processing Record 39 of Set 4 | souillac \n",
      "Processing Record 40 of Set 4 | grand gaube \n",
      "Processing Record 41 of Set 4 | galesong \n",
      "Processing Record 42 of Set 4 | gushikawa \n",
      "Processing Record 43 of Set 4 | beloha \n",
      "Processing Record 44 of Set 4 | teknaf \n",
      "Processing Record 45 of Set 4 | bougouni \n",
      "Processing Record 46 of Set 4 | bandarbeyla \n",
      "Processing Record 47 of Set 4 | darnah \n",
      "Processing Record 48 of Set 4 | sola \n",
      "Processing Record 49 of Set 4 | conceicao da barra \n",
      "Processing Record 0 of Set 5 | moses lake \n",
      "Processing Record 1 of Set 5 | saint-donat-de-montcalm \n",
      "Processing Record 2 of Set 5 | lieksa \n",
      "Processing Record 3 of Set 5 | yar-sale \n",
      "Processing Record 4 of Set 5 | vanimo \n",
      "Processing Record 5 of Set 5 | bathsheba \n",
      "Processing Record 6 of Set 5 | saint-philippe \n",
      "Processing Record 7 of Set 5 | kuzovatovo \n",
      "Processing Record 8 of Set 5 | kalmunai \n",
      "Processing Record 9 of Set 5 | grootfontein \n",
      "Processing Record 10 of Set 5 | malanville \n",
      "Processing Record 11 of Set 5 | pecos \n",
      "Processing Record 12 of Set 5 | wawa \n",
      "Processing Record 13 of Set 5 | key largo \n",
      "Processing Record 14 of Set 5 | marki \n",
      "Processing Record 15 of Set 5 | jiangyou \n",
      "Processing Record 16 of Set 5 | lianzhou \n",
      "Processing Record 17 of Set 5 | beaune \n",
      "Processing Record 18 of Set 5 | karratha \n",
      "Processing Record 19 of Set 5 | dikson \n",
      "Processing Record 20 of Set 5 | batemans bay \n",
      "Processing Record 21 of Set 5 | lebowakgomo \n",
      "Processing Record 22 of Set 5 | general roca \n",
      "Processing Record 23 of Set 5 | sentyabrskiy \n",
      "City not found. Skipping...\n",
      "Processing Record 24 of Set 5 | kirchzarten \n",
      "Processing Record 25 of Set 5 | okhotsk \n",
      "Processing Record 26 of Set 5 | ati \n",
      "Processing Record 27 of Set 5 | zhiryatino \n",
      "Processing Record 28 of Set 5 | shelburne \n",
      "Processing Record 29 of Set 5 | severo-kurilsk \n",
      "Processing Record 30 of Set 5 | broome \n",
      "Processing Record 31 of Set 5 | los llanos de aridane \n",
      "Processing Record 32 of Set 5 | ivoti \n",
      "Processing Record 33 of Set 5 | ous \n",
      "Processing Record 34 of Set 5 | sharjah \n",
      "Processing Record 35 of Set 5 | qaanaaq \n",
      "Processing Record 36 of Set 5 | sarab \n",
      "Processing Record 37 of Set 5 | guerrero negro \n",
      "Processing Record 38 of Set 5 | inhambane \n",
      "Processing Record 39 of Set 5 | flinders \n",
      "Processing Record 40 of Set 5 | samarai \n",
      "Processing Record 41 of Set 5 | tari \n",
      "Processing Record 42 of Set 5 | hastings \n",
      "Processing Record 43 of Set 5 | kaeo \n",
      "Processing Record 44 of Set 5 | tuktoyaktuk \n",
      "Processing Record 45 of Set 5 | wulanhaote \n",
      "City not found. Skipping...\n",
      "Processing Record 46 of Set 5 | provideniya \n",
      "Processing Record 47 of Set 5 | lipin bor \n",
      "Processing Record 48 of Set 5 | hasaki \n",
      "Processing Record 49 of Set 5 | hit \n",
      "Processing Record 0 of Set 6 | arauca \n",
      "Processing Record 1 of Set 6 | ust-tsilma \n",
      "Processing Record 2 of Set 6 | denton \n",
      "Processing Record 3 of Set 6 | luderitz \n",
      "Processing Record 4 of Set 6 | caravelas \n",
      "Processing Record 5 of Set 6 | maykain \n",
      "City not found. Skipping...\n",
      "Processing Record 6 of Set 6 | yeppoon \n",
      "Processing Record 7 of Set 6 | touros \n",
      "Processing Record 8 of Set 6 | hulyaypole \n",
      "Processing Record 9 of Set 6 | norman wells \n",
      "Processing Record 10 of Set 6 | la rioja \n",
      "Processing Record 11 of Set 6 | umzimvubu \n",
      "City not found. Skipping...\n",
      "Processing Record 12 of Set 6 | celestun \n",
      "Processing Record 13 of Set 6 | hobyo \n",
      "Processing Record 14 of Set 6 | almaznyy \n",
      "Processing Record 15 of Set 6 | lolua \n",
      "City not found. Skipping...\n",
      "Processing Record 16 of Set 6 | worland \n",
      "Processing Record 17 of Set 6 | tawzar \n",
      "City not found. Skipping...\n",
      "Processing Record 18 of Set 6 | durban \n",
      "Processing Record 19 of Set 6 | sinop \n",
      "Processing Record 20 of Set 6 | tubuala \n",
      "Processing Record 21 of Set 6 | salinopolis \n",
      "Processing Record 22 of Set 6 | atlantic city \n",
      "City not found. Skipping...\n",
      "Processing Record 23 of Set 6 | sandakan \n",
      "Processing Record 24 of Set 6 | poum \n",
      "Processing Record 25 of Set 6 | teya \n",
      "Processing Record 26 of Set 6 | taitung \n",
      "Processing Record 27 of Set 6 | yumen \n",
      "Processing Record 28 of Set 6 | amderma \n",
      "City not found. Skipping...\n",
      "Processing Record 29 of Set 6 | alunitdag \n",
      "City not found. Skipping...\n",
      "Processing Record 30 of Set 6 | bahia blanca \n",
      "Processing Record 31 of Set 6 | naraini \n",
      "Processing Record 32 of Set 6 | muratbey \n",
      "Processing Record 33 of Set 6 | eskasem \n",
      "City not found. Skipping...\n",
      "Processing Record 34 of Set 6 | roros \n",
      "Processing Record 35 of Set 6 | alta floresta \n",
      "Processing Record 36 of Set 6 | leningradskiy \n",
      "Processing Record 37 of Set 6 | bogotol \n",
      "Processing Record 38 of Set 6 | murmashi \n",
      "Processing Record 39 of Set 6 | akyab \n",
      "City not found. Skipping...\n",
      "Processing Record 40 of Set 6 | igrim \n",
      "Processing Record 41 of Set 6 | panaba \n",
      "Processing Record 42 of Set 6 | esperance \n",
      "Processing Record 43 of Set 6 | krasnystaw \n",
      "Processing Record 44 of Set 6 | macaubas \n",
      "Processing Record 45 of Set 6 | yueyang \n",
      "Processing Record 46 of Set 6 | yantal \n",
      "Processing Record 47 of Set 6 | coquimbo \n",
      "Processing Record 48 of Set 6 | listvyanskiy \n",
      "Processing Record 49 of Set 6 | matehuala \n",
      "Processing Record 0 of Set 7 | paipa \n",
      "Processing Record 1 of Set 7 | caiaponia \n",
      "Processing Record 2 of Set 7 | jalu \n",
      "Processing Record 3 of Set 7 | tondano \n",
      "Processing Record 4 of Set 7 | borogontsy \n",
      "Processing Record 5 of Set 7 | murakami \n",
      "Processing Record 6 of Set 7 | port macquarie \n",
      "Processing Record 7 of Set 7 | mwene-ditu \n",
      "Processing Record 8 of Set 7 | sorong \n",
      "Processing Record 9 of Set 7 | cockburn town \n",
      "Processing Record 10 of Set 7 | ostersund \n",
      "Processing Record 11 of Set 7 | acajutla \n",
      "Processing Record 12 of Set 7 | butaritari \n",
      "Processing Record 13 of Set 7 | hofn \n",
      "Processing Record 14 of Set 7 | mattru \n",
      "Processing Record 15 of Set 7 | nizhniy kuranakh \n",
      "Processing Record 16 of Set 7 | aklavik \n",
      "Processing Record 17 of Set 7 | cape coast \n",
      "Processing Record 18 of Set 7 | shieli \n",
      "Processing Record 19 of Set 7 | kagoro \n",
      "Processing Record 20 of Set 7 | coihaique \n",
      "Processing Record 21 of Set 7 | lhuntshi \n",
      "City not found. Skipping...\n",
      "Processing Record 22 of Set 7 | marcona \n",
      "City not found. Skipping...\n",
      "Processing Record 23 of Set 7 | magdagachi \n",
      "Processing Record 24 of Set 7 | rio grande \n",
      "Processing Record 25 of Set 7 | arkhara \n",
      "Processing Record 26 of Set 7 | tchibanga \n",
      "Processing Record 27 of Set 7 | litoral del san juan \n",
      "City not found. Skipping...\n",
      "Processing Record 28 of Set 7 | kimbe \n",
      "Processing Record 29 of Set 7 | kizukuri \n",
      "Processing Record 30 of Set 7 | izumo \n",
      "Processing Record 31 of Set 7 | markova \n",
      "Processing Record 32 of Set 7 | lorengau \n",
      "Processing Record 33 of Set 7 | nouadhibou \n",
      "Processing Record 34 of Set 7 | morant bay \n",
      "Processing Record 35 of Set 7 | mildura \n",
      "Processing Record 36 of Set 7 | svetlyy \n",
      "City not found. Skipping...\n",
      "Processing Record 37 of Set 7 | huarmey \n",
      "Processing Record 38 of Set 7 | dien bien \n",
      "City not found. Skipping...\n",
      "Processing Record 39 of Set 7 | atambua \n",
      "Processing Record 40 of Set 7 | kaka \n",
      "Processing Record 41 of Set 7 | alyangula \n",
      "Processing Record 42 of Set 7 | yertsevo \n",
      "Processing Record 43 of Set 7 | brae \n",
      "Processing Record 44 of Set 7 | grand river south east \n",
      "City not found. Skipping...\n",
      "Processing Record 45 of Set 7 | acari \n",
      "Processing Record 46 of Set 7 | san andres \n",
      "Processing Record 47 of Set 7 | nancha \n",
      "Processing Record 48 of Set 7 | ulety \n",
      "Processing Record 49 of Set 7 | bilma \n",
      "Processing Record 0 of Set 8 | saint-joseph \n",
      "Processing Record 1 of Set 8 | milkovo \n",
      "Processing Record 2 of Set 8 | muros \n",
      "Processing Record 3 of Set 8 | juifang \n",
      "City not found. Skipping...\n",
      "Processing Record 4 of Set 8 | guangshui \n",
      "Processing Record 5 of Set 8 | kruisfontein \n",
      "Processing Record 6 of Set 8 | san luis \n",
      "Processing Record 7 of Set 8 | kuche \n",
      "City not found. Skipping...\n",
      "Processing Record 8 of Set 8 | eureka \n",
      "Processing Record 9 of Set 8 | kaputa \n"
     ]
    },
    {
     "name": "stdout",
     "output_type": "stream",
     "text": [
      "Processing Record 10 of Set 8 | fortuna \n",
      "Processing Record 11 of Set 8 | tateyama \n",
      "Processing Record 12 of Set 8 | teguldet \n",
      "Processing Record 13 of Set 8 | kununurra \n",
      "Processing Record 14 of Set 8 | puerto carreno \n",
      "Processing Record 15 of Set 8 | yambio \n",
      "City not found. Skipping...\n",
      "Processing Record 16 of Set 8 | tuatapere \n",
      "Processing Record 17 of Set 8 | saint-augustin \n",
      "Processing Record 18 of Set 8 | richards bay \n",
      "Processing Record 19 of Set 8 | marquette \n",
      "Processing Record 20 of Set 8 | kamenka \n",
      "Processing Record 21 of Set 8 | narsaq \n",
      "Processing Record 22 of Set 8 | taltal \n",
      "Processing Record 23 of Set 8 | santa maria \n",
      "Processing Record 24 of Set 8 | faanui \n",
      "Processing Record 25 of Set 8 | piacabucu \n",
      "Processing Record 26 of Set 8 | sumbe \n",
      "Processing Record 27 of Set 8 | vila franca do campo \n",
      "Processing Record 28 of Set 8 | hambantota \n",
      "Processing Record 29 of Set 8 | bonavista \n",
      "Processing Record 30 of Set 8 | lavrentiya \n",
      "Processing Record 31 of Set 8 | tokmak \n",
      "Processing Record 32 of Set 8 | santana do livramento \n",
      "Processing Record 33 of Set 8 | flekkefjord \n",
      "Processing Record 34 of Set 8 | emilio carranza \n",
      "Processing Record 35 of Set 8 | sakakah \n",
      "City not found. Skipping...\n",
      "Processing Record 36 of Set 8 | cidreira \n",
      "Processing Record 37 of Set 8 | baykit \n",
      "Processing Record 38 of Set 8 | doha \n",
      "Processing Record 39 of Set 8 | nikki \n",
      "Processing Record 40 of Set 8 | de aar \n",
      "Processing Record 41 of Set 8 | pirot \n",
      "Processing Record 42 of Set 8 | marsa matruh \n",
      "Processing Record 43 of Set 8 | boyuibe \n",
      "Processing Record 44 of Set 8 | la tuque \n",
      "Processing Record 45 of Set 8 | grindavik \n",
      "Processing Record 46 of Set 8 | neuquen \n",
      "Processing Record 47 of Set 8 | sisimiut \n",
      "Processing Record 48 of Set 8 | san pedro \n",
      "Processing Record 49 of Set 8 | codrington \n",
      "Processing Record 0 of Set 9 | barbacoas \n",
      "Processing Record 1 of Set 9 | menongue \n",
      "Processing Record 2 of Set 9 | wukari \n",
      "Processing Record 3 of Set 9 | lompoc \n",
      "Processing Record 4 of Set 9 | staraya toropa \n",
      "Processing Record 5 of Set 9 | lokosovo \n",
      "Processing Record 6 of Set 9 | xintai \n",
      "Processing Record 7 of Set 9 | vostok \n",
      "Processing Record 8 of Set 9 | namibe \n",
      "Processing Record 9 of Set 9 | canyon \n",
      "Processing Record 10 of Set 9 | labuan \n",
      "Processing Record 11 of Set 9 | redlands \n",
      "Processing Record 12 of Set 9 | ponta delgada \n",
      "Processing Record 13 of Set 9 | povenets \n",
      "Processing Record 14 of Set 9 | berlevag \n",
      "Processing Record 15 of Set 9 | ndele \n",
      "City not found. Skipping...\n",
      "Processing Record 16 of Set 9 | husavik \n",
      "Processing Record 17 of Set 9 | polunochnoye \n",
      "Processing Record 18 of Set 9 | tidore \n",
      "City not found. Skipping...\n",
      "Processing Record 19 of Set 9 | buala \n",
      "Processing Record 20 of Set 9 | vila velha \n",
      "Processing Record 21 of Set 9 | vila do maio \n",
      "Processing Record 22 of Set 9 | khatanga \n",
      "Processing Record 23 of Set 9 | naze \n",
      "Processing Record 24 of Set 9 | salalah \n",
      "Processing Record 25 of Set 9 | miri \n",
      "Processing Record 26 of Set 9 | meridian \n",
      "Processing Record 27 of Set 9 | suslovo \n",
      "Processing Record 28 of Set 9 | vitim \n",
      "Processing Record 29 of Set 9 | zaoyang \n",
      "Processing Record 30 of Set 9 | cururupu \n",
      "Processing Record 31 of Set 9 | necochea \n",
      "Processing Record 32 of Set 9 | gorontalo \n",
      "Processing Record 33 of Set 9 | sainte-rose \n",
      "Processing Record 34 of Set 9 | beyneu \n",
      "Processing Record 35 of Set 9 | mokhsogollokh \n",
      "Processing Record 36 of Set 9 | fare \n",
      "Processing Record 37 of Set 9 | aksarka \n",
      "Processing Record 38 of Set 9 | brewster \n",
      "Processing Record 39 of Set 9 | the valley \n",
      "Processing Record 40 of Set 9 | haines junction \n",
      "Processing Record 41 of Set 9 | nemuro \n",
      "Processing Record 42 of Set 9 | quatre cocos \n",
      "Processing Record 43 of Set 9 | santa eulalia del rio \n",
      "City not found. Skipping...\n",
      "Processing Record 44 of Set 9 | pedasi \n",
      "Processing Record 45 of Set 9 | cervo \n",
      "Processing Record 46 of Set 9 | mangrol \n",
      "Processing Record 47 of Set 9 | washougal \n",
      "Processing Record 48 of Set 9 | gornyy \n",
      "Processing Record 49 of Set 9 | cananeia \n",
      "Processing Record 0 of Set 10 | marawi \n",
      "Processing Record 1 of Set 10 | orchard homes \n",
      "Processing Record 2 of Set 10 | hamilton \n",
      "Processing Record 3 of Set 10 | saint john \n",
      "Processing Record 4 of Set 10 | robertsport \n",
      "Processing Record 5 of Set 10 | moranbah \n",
      "Processing Record 6 of Set 10 | nova venecia \n",
      "Processing Record 7 of Set 10 | solnechnyy \n",
      "Processing Record 8 of Set 10 | lazi \n",
      "Processing Record 9 of Set 10 | turkistan \n",
      "City not found. Skipping...\n",
      "Processing Record 10 of Set 10 | riyadh \n",
      "Processing Record 11 of Set 10 | college \n",
      "Processing Record 12 of Set 10 | koster \n",
      "Processing Record 13 of Set 10 | nuuk \n",
      "Processing Record 14 of Set 10 | sydney \n",
      "Processing Record 15 of Set 10 | zhigansk \n",
      "Processing Record 16 of Set 10 | san diego \n",
      "Processing Record 17 of Set 10 | karaul \n",
      "City not found. Skipping...\n",
      "Processing Record 18 of Set 10 | ribeira grande \n",
      "Processing Record 19 of Set 10 | guiratinga \n",
      "Processing Record 20 of Set 10 | poronaysk \n",
      "Processing Record 21 of Set 10 | san vicente \n",
      "Processing Record 22 of Set 10 | iqaluit \n",
      "Processing Record 23 of Set 10 | abdanan \n",
      "Processing Record 24 of Set 10 | hrubieszow \n",
      "Processing Record 25 of Set 10 | umba \n",
      "Processing Record 26 of Set 10 | dancheng \n",
      "Processing Record 27 of Set 10 | uniao \n",
      "City not found. Skipping...\n",
      "Processing Record 28 of Set 10 | novaya ladoga \n",
      "Processing Record 29 of Set 10 | haukipudas \n",
      "Processing Record 30 of Set 10 | dolores \n",
      "Processing Record 31 of Set 10 | lazaro cardenas \n",
      "Processing Record 32 of Set 10 | bireun \n",
      "Processing Record 33 of Set 10 | mehamn \n",
      "Processing Record 34 of Set 10 | svetlogorsk \n",
      "Processing Record 35 of Set 10 | jasidih \n",
      "Processing Record 36 of Set 10 | kodiak \n",
      "Processing Record 37 of Set 10 | sinegorskiy \n",
      "Processing Record 38 of Set 10 | dryden \n",
      "Processing Record 39 of Set 10 | maryborough \n",
      "Processing Record 40 of Set 10 | kavaratti \n",
      "Processing Record 41 of Set 10 | billings \n",
      "Processing Record 42 of Set 10 | iquique \n",
      "Processing Record 43 of Set 10 | mount gambier \n",
      "Processing Record 44 of Set 10 | cayenne \n",
      "Processing Record 45 of Set 10 | nome \n",
      "Processing Record 46 of Set 10 | faya \n",
      "Processing Record 47 of Set 10 | sorland \n",
      "Processing Record 48 of Set 10 | igarka \n",
      "Processing Record 49 of Set 10 | kaitangata \n",
      "Processing Record 0 of Set 11 | isabela \n",
      "Processing Record 1 of Set 11 | karakendzha \n",
      "City not found. Skipping...\n",
      "Processing Record 2 of Set 11 | podor \n",
      "Processing Record 3 of Set 11 | hinton \n",
      "Processing Record 4 of Set 11 | pontianak \n",
      "Processing Record 5 of Set 11 | turukhansk \n",
      "Processing Record 6 of Set 11 | sedelnikovo \n",
      "City not found. Skipping...\n",
      "Processing Record 7 of Set 11 | ondorhaan \n",
      "City not found. Skipping...\n",
      "Processing Record 8 of Set 11 | avera \n",
      "Processing Record 9 of Set 11 | abu zabad \n",
      "Processing Record 10 of Set 11 | evanston \n",
      "Processing Record 11 of Set 11 | namatanai \n",
      "Processing Record 12 of Set 11 | saryg-sep \n",
      "Processing Record 13 of Set 11 | druzhba \n",
      "Processing Record 14 of Set 11 | mmabatho \n",
      "Processing Record 15 of Set 11 | ngukurr \n",
      "City not found. Skipping...\n",
      "Processing Record 16 of Set 11 | mayor pablo lagerenza \n",
      "Processing Record 17 of Set 11 | dubti \n",
      "Processing Record 18 of Set 11 | dinguiraye \n",
      "Processing Record 19 of Set 11 | kalino \n",
      "Processing Record 20 of Set 11 | pangnirtung \n",
      "Processing Record 21 of Set 11 | do gonbadan \n",
      "Processing Record 22 of Set 11 | qarqin \n",
      "Processing Record 23 of Set 11 | nangong \n",
      "Processing Record 24 of Set 11 | barguzin \n",
      "Processing Record 25 of Set 11 | baoshan \n",
      "Processing Record 26 of Set 11 | tezu \n",
      "Processing Record 27 of Set 11 | palmas bellas \n",
      "Processing Record 28 of Set 11 | lynn haven \n",
      "Processing Record 29 of Set 11 | sezana \n",
      "Processing Record 30 of Set 11 | kenai \n",
      "Processing Record 31 of Set 11 | terme \n",
      "Processing Record 32 of Set 11 | kutum \n",
      "Processing Record 33 of Set 11 | saryozek \n",
      "Processing Record 34 of Set 11 | verkhniy baskunchak \n",
      "Processing Record 35 of Set 11 | tabialan \n",
      "City not found. Skipping...\n",
      "Processing Record 36 of Set 11 | ahuimanu \n",
      "Processing Record 37 of Set 11 | terney \n",
      "Processing Record 38 of Set 11 | sabang \n",
      "Processing Record 39 of Set 11 | alice \n",
      "Processing Record 40 of Set 11 | dunedin \n",
      "Processing Record 41 of Set 11 | palmer \n",
      "Processing Record 42 of Set 11 | gawler \n",
      "Processing Record 43 of Set 11 | half moon bay \n",
      "Processing Record 44 of Set 11 | san cristobal \n"
     ]
    },
    {
     "name": "stdout",
     "output_type": "stream",
     "text": [
      "Processing Record 45 of Set 11 | deputatskiy \n",
      "Processing Record 46 of Set 11 | chernyshevskiy \n",
      "Processing Record 47 of Set 11 | ambodifototra \n",
      "City not found. Skipping...\n",
      "Processing Record 48 of Set 11 | itarema \n",
      "Processing Record 49 of Set 11 | saint-francois \n",
      "Processing Record 0 of Set 12 | magoula \n",
      "Processing Record 1 of Set 12 | cayambe \n",
      "Processing Record 2 of Set 12 | port lincoln \n",
      "Processing Record 3 of Set 12 | praia \n",
      "Processing Record 4 of Set 12 | khandyga \n",
      "Processing Record 5 of Set 12 | garoua boulai \n",
      "Processing Record 6 of Set 12 | martil \n",
      "Processing Record 7 of Set 12 | aflu \n",
      "City not found. Skipping...\n",
      "Processing Record 8 of Set 12 | tura \n",
      "Processing Record 9 of Set 12 | surt \n",
      "Processing Record 10 of Set 12 | peniche \n",
      "Processing Record 11 of Set 12 | kaele \n",
      "Processing Record 12 of Set 12 | constitucion \n",
      "Processing Record 13 of Set 12 | ambulu \n",
      "Processing Record 14 of Set 12 | tokyo \n",
      "Processing Record 15 of Set 12 | jardim \n",
      "Processing Record 16 of Set 12 | peterhead \n",
      "Processing Record 17 of Set 12 | charters towers \n",
      "Processing Record 18 of Set 12 | tessalit \n",
      "Processing Record 19 of Set 12 | biak \n",
      "Processing Record 20 of Set 12 | viransehir \n",
      "Processing Record 21 of Set 12 | hirara \n",
      "Processing Record 22 of Set 12 | fujin \n",
      "Processing Record 23 of Set 12 | el faiyum \n",
      "City not found. Skipping...\n",
      "Processing Record 24 of Set 12 | tambura \n",
      "City not found. Skipping...\n",
      "Processing Record 25 of Set 12 | henties bay \n",
      "Processing Record 26 of Set 12 | alice springs \n",
      "Processing Record 27 of Set 12 | temaraia \n",
      "City not found. Skipping...\n",
      "Processing Record 28 of Set 12 | shimoda \n",
      "Processing Record 29 of Set 12 | mahadday weyne \n",
      "City not found. Skipping...\n",
      "Processing Record 30 of Set 12 | taksimo \n",
      "Processing Record 31 of Set 12 | millinocket \n",
      "Processing Record 32 of Set 12 | chapleau \n",
      "Processing Record 33 of Set 12 | arona \n",
      "Processing Record 34 of Set 12 | shache \n",
      "Processing Record 35 of Set 12 | woodward \n",
      "Processing Record 36 of Set 12 | acapulco \n",
      "Processing Record 37 of Set 12 | kozyatyn \n",
      "Processing Record 38 of Set 12 | fairbanks \n",
      "Processing Record 39 of Set 12 | garowe \n",
      "Processing Record 40 of Set 12 | adancata \n",
      "Processing Record 41 of Set 12 | trat \n",
      "Processing Record 42 of Set 12 | amlagora \n",
      "Processing Record 43 of Set 12 | gurupi \n",
      "Processing Record 44 of Set 12 | belmonte \n",
      "Processing Record 45 of Set 12 | north platte \n",
      "Processing Record 46 of Set 12 | tel aviv-yafo \n",
      "Processing Record 47 of Set 12 | payakumbuh \n",
      "Processing Record 48 of Set 12 | lesnoy \n",
      "Processing Record 49 of Set 12 | kampene \n",
      "Processing Record 0 of Set 13 | manikpur \n",
      "Processing Record 1 of Set 13 | ushibuka \n",
      "Processing Record 2 of Set 13 | etzatlan \n",
      "Processing Record 3 of Set 13 | mogadishu \n",
      "Processing Record 4 of Set 13 | tigil \n",
      "Processing Record 5 of Set 13 | atar \n",
      "Processing Record 6 of Set 13 | yabassi \n",
      "Processing Record 7 of Set 13 | majene \n",
      "Processing Record 8 of Set 13 | kerouane \n",
      "Processing Record 9 of Set 13 | bonthe \n",
      "Processing Record 10 of Set 13 | contai \n",
      "Processing Record 11 of Set 13 | murashi \n",
      "Processing Record 12 of Set 13 | chernogorsk \n",
      "Processing Record 13 of Set 13 | khovu-aksy \n",
      "Processing Record 14 of Set 13 | aba \n",
      "Processing Record 15 of Set 13 | renukut \n",
      "Processing Record 16 of Set 13 | nabire \n",
      "Processing Record 17 of Set 13 | sinnamary \n",
      "Processing Record 18 of Set 13 | kinablangan \n",
      "Processing Record 19 of Set 13 | ahipara \n",
      "Processing Record 20 of Set 13 | jijiga \n",
      "Processing Record 21 of Set 13 | payo \n",
      "Processing Record 22 of Set 13 | margate \n",
      "Processing Record 23 of Set 13 | lekoni \n",
      "Processing Record 24 of Set 13 | wewak \n",
      "Processing Record 25 of Set 13 | pacifica \n",
      "Processing Record 26 of Set 13 | vanavara \n",
      "---------------------------\n",
      "Data Retrieval Complete\n"
     ]
    }
   ],
   "source": [
    "base_url = \"http://api.openweathermap.org/data/2.5/weather?\"\n",
    "units = \"imperial\"\n",
    "i=1\n",
    "j=0\n",
    "k = int(len(cities)/50) + 1\n",
    "print(k)\n",
    "weather=[]\n",
    "\n",
    "print(\"Beginning Data Retrieval\")\n",
    "print(\"-------------------------\")\n",
    "for city in cities:\n",
    "    if (j==50):\n",
    "        j=0\n",
    "        i=i+1\n",
    "        \n",
    "        \n",
    "    print(f\"Processing Record {j} of Set {i} | {city} \")\n",
    "    j=j+1\n",
    "    \n",
    "    query_url = f\"{base_url}appid={weather_api_key}&q={city}&units={units}\"\n",
    "    weather_response = requests.get(query_url)\n",
    "    weather_json = weather_response.json()\n",
    "    if (weather_json[\"cod\"]==\"404\"):\n",
    "        print(\"City not found. Skipping...\")\n",
    "    else:\n",
    "        weather.append(weather_json)     \n",
    "       \n",
    "\n",
    "print(\"---------------------------\")    \n",
    "print(\"Data Retrieval Complete\")\n"
   ]
  },
  {
   "cell_type": "code",
   "execution_count": 266,
   "metadata": {},
   "outputs": [
    {
     "name": "stdout",
     "output_type": "stream",
     "text": [
      "564\n"
     ]
    }
   ],
   "source": [
    "\n",
    "print (len(weather))"
   ]
  },
  {
   "cell_type": "code",
   "execution_count": 284,
   "metadata": {},
   "outputs": [
    {
     "name": "stdout",
     "output_type": "stream",
     "text": [
      "{'base': 'model',\n",
      " 'clouds': {'all': 5},\n",
      " 'cod': 200,\n",
      " 'coord': {'lat': 4.89, 'lon': -1.75},\n",
      " 'dt': 1578261797,\n",
      " 'id': 2294915,\n",
      " 'main': {'feels_like': 80.85,\n",
      "          'grnd_level': 1011,\n",
      "          'humidity': 58,\n",
      "          'pressure': 1012,\n",
      "          'sea_level': 1012,\n",
      "          'temp': 79.75,\n",
      "          'temp_max': 79.75,\n",
      "          'temp_min': 79.75},\n",
      " 'name': 'Takoradi',\n",
      " 'sys': {'country': 'GH', 'sunrise': 1578204990, 'sunset': 1578247641},\n",
      " 'timezone': 0,\n",
      " 'weather': [{'description': 'clear sky',\n",
      "              'icon': '01n',\n",
      "              'id': 800,\n",
      "              'main': 'Clear'}],\n",
      " 'wind': {'deg': 178, 'speed': 6.42}}\n"
     ]
    }
   ],
   "source": [
    "\n",
    "pprint(weather[0])"
   ]
  },
  {
   "cell_type": "markdown",
   "metadata": {},
   "source": [
    "### Convert Raw Data to DataFrame\n",
    "* Export the city data into a .csv.\n",
    "* Display the DataFrame"
   ]
  },
  {
   "cell_type": "code",
   "execution_count": 287,
   "metadata": {},
   "outputs": [
    {
     "data": {
      "text/html": [
       "<div>\n",
       "<style scoped>\n",
       "    .dataframe tbody tr th:only-of-type {\n",
       "        vertical-align: middle;\n",
       "    }\n",
       "\n",
       "    .dataframe tbody tr th {\n",
       "        vertical-align: top;\n",
       "    }\n",
       "\n",
       "    .dataframe thead th {\n",
       "        text-align: right;\n",
       "    }\n",
       "</style>\n",
       "<table border=\"1\" class=\"dataframe\">\n",
       "  <thead>\n",
       "    <tr style=\"text-align: right;\">\n",
       "      <th></th>\n",
       "      <th>city name</th>\n",
       "      <th>country</th>\n",
       "      <th>date</th>\n",
       "      <th>latitude</th>\n",
       "      <th>longitude</th>\n",
       "      <th>max temperature</th>\n",
       "      <th>humidity</th>\n",
       "      <th>cloudiness</th>\n",
       "      <th>wind speed</th>\n",
       "    </tr>\n",
       "  </thead>\n",
       "  <tbody>\n",
       "    <tr>\n",
       "      <th>0</th>\n",
       "      <td>Takoradi</td>\n",
       "      <td>GH</td>\n",
       "      <td>1578261797</td>\n",
       "      <td>4.89</td>\n",
       "      <td>-1.75</td>\n",
       "      <td>79.75</td>\n",
       "      <td>58</td>\n",
       "      <td>5</td>\n",
       "      <td>6.42</td>\n",
       "    </tr>\n",
       "    <tr>\n",
       "      <th>1</th>\n",
       "      <td>New Norfolk</td>\n",
       "      <td>AU</td>\n",
       "      <td>1578261797</td>\n",
       "      <td>-42.78</td>\n",
       "      <td>147.06</td>\n",
       "      <td>62.01</td>\n",
       "      <td>58</td>\n",
       "      <td>20</td>\n",
       "      <td>3.36</td>\n",
       "    </tr>\n",
       "    <tr>\n",
       "      <th>2</th>\n",
       "      <td>Monte Alegre</td>\n",
       "      <td>BR</td>\n",
       "      <td>1578261797</td>\n",
       "      <td>-2.00</td>\n",
       "      <td>-54.07</td>\n",
       "      <td>85.89</td>\n",
       "      <td>62</td>\n",
       "      <td>80</td>\n",
       "      <td>2.55</td>\n",
       "    </tr>\n",
       "    <tr>\n",
       "      <th>3</th>\n",
       "      <td>Airai</td>\n",
       "      <td>TL</td>\n",
       "      <td>1578261797</td>\n",
       "      <td>-8.93</td>\n",
       "      <td>125.41</td>\n",
       "      <td>69.42</td>\n",
       "      <td>84</td>\n",
       "      <td>100</td>\n",
       "      <td>5.26</td>\n",
       "    </tr>\n",
       "    <tr>\n",
       "      <th>4</th>\n",
       "      <td>Seguin</td>\n",
       "      <td>US</td>\n",
       "      <td>1578261797</td>\n",
       "      <td>29.57</td>\n",
       "      <td>-97.96</td>\n",
       "      <td>75.99</td>\n",
       "      <td>22</td>\n",
       "      <td>1</td>\n",
       "      <td>11.41</td>\n",
       "    </tr>\n",
       "  </tbody>\n",
       "</table>\n",
       "</div>"
      ],
      "text/plain": [
       "      city name country        date  latitude  longitude  max temperature  \\\n",
       "0      Takoradi      GH  1578261797      4.89      -1.75            79.75   \n",
       "1   New Norfolk      AU  1578261797    -42.78     147.06            62.01   \n",
       "2  Monte Alegre      BR  1578261797     -2.00     -54.07            85.89   \n",
       "3         Airai      TL  1578261797     -8.93     125.41            69.42   \n",
       "4        Seguin      US  1578261797     29.57     -97.96            75.99   \n",
       "\n",
       "   humidity  cloudiness  wind speed  \n",
       "0        58           5        6.42  \n",
       "1        58          20        3.36  \n",
       "2        62          80        2.55  \n",
       "3        84         100        5.26  \n",
       "4        22           1       11.41  "
      ]
     },
     "execution_count": 287,
     "metadata": {},
     "output_type": "execute_result"
    }
   ],
   "source": [
    " \n",
    "name = weather[0][\"name\"]\n",
    "country = weather[0][\"sys\"][\"country\"]\n",
    "date= weather[0][\"dt\"]\n",
    "lat = weather[0][\"coord\"][\"lat\"]\n",
    "lng = weather[0][\"coord\"][\"lon\"]\n",
    "temp = weather[0][\"main\"][\"temp_max\"]\n",
    "hum = weather[0][\"main\"][\"humidity\"]\n",
    "cloud = weather[0][\"clouds\"][\"all\"]\n",
    "wind = weather[0][\"wind\"][\"speed\"]\n",
    "    \n",
    "    \n",
    "    \n",
    "cities_weather_beg=pd.DataFrame({\n",
    "        \n",
    "        \"city name\": name,\n",
    "        \"country\":country,\n",
    "        \"date\": date,\n",
    "        \"latitude\": lat,\n",
    "        \"longitude\":lng,\n",
    "        \"max temperature\": temp,\n",
    "        \"humidity\": hum,\n",
    "        \"cloudiness\": cloud,\n",
    "        \"wind speed\": [wind]\n",
    "    })\n",
    "\n",
    "\n",
    "\n",
    "for i in range(1, len(weather)):\n",
    " \n",
    "    name = weather[i][\"name\"]\n",
    "    country = weather[i][\"sys\"][\"country\"]\n",
    "    date= weather[i][\"dt\"]\n",
    "    lat = weather[i][\"coord\"][\"lat\"]\n",
    "    lng = weather[i][\"coord\"][\"lon\"]\n",
    "    temp = weather[i][\"main\"][\"temp_max\"]\n",
    "    hum = weather[i][\"main\"][\"humidity\"]\n",
    "    cloud = weather[i][\"clouds\"][\"all\"]\n",
    "    wind = weather[i][\"wind\"][\"speed\"]\n",
    "    \n",
    "    \n",
    "    \n",
    "    cities_weather=pd.DataFrame({\n",
    "        \n",
    "        \"city name\": name,\n",
    "        \"country\":country,\n",
    "        \"date\":date,\n",
    "        \"latitude\": lat,\n",
    "        \"longitude\":lng,\n",
    "        \"max temperature\": temp,\n",
    "        \"humidity\": hum,\n",
    "        \"cloudiness\": cloud,\n",
    "        \"wind speed\": [wind]\n",
    "    })\n",
    "    \n",
    "    cities_weather = pd.concat([cities_weather_beg, cities_weather], axis=0, ignore_index=True)\n",
    "    cities_weather_beg = cities_weather\n",
    "    \n",
    "    \n",
    "    \n",
    "#cities_weather = cities_weather.reset_index(drop=True)   \n",
    "cities_weather.to_csv(\"../weatherPy/output_data/cities.csv\", index=True)\n",
    "cities_weather.head()\n",
    "\n"
   ]
  },
  {
   "cell_type": "code",
   "execution_count": null,
   "metadata": {},
   "outputs": [],
   "source": [
    "\n"
   ]
  },
  {
   "cell_type": "markdown",
   "metadata": {},
   "source": [
    "### Plotting the Data\n",
    "* Use proper labeling of the plots using plot titles (including date of analysis) and axes labels.\n",
    "* Save the plotted figures as .pngs."
   ]
  },
  {
   "cell_type": "markdown",
   "metadata": {},
   "source": [
    "#### Latitude vs. Temperature Plot"
   ]
  },
  {
   "cell_type": "code",
   "execution_count": 268,
   "metadata": {
    "scrolled": true
   },
   "outputs": [
    {
     "data": {
      "image/png": "[encoded data removed]",
      "text/plain": [
       "<Figure size 432x288 with 1 Axes>"
      ]
     },
     "metadata": {
      "needs_background": "light"
     },
     "output_type": "display_data"
    }
   ],
   "source": [
    "plt.scatter(cities_weather[\"latitude\"], cities_weather[\"max temperature\"], marker='o', facecolor=\"red\", edgecolor = \"black\")\n",
    "plt.title(\"City Latitude vs. Max Temperature\")\n",
    "plt.xlabel(\"Latitude\")\n",
    "plt.ylabel(\"Temperature (F)\")\n",
    "plt.grid()\n",
    "plt.savefig('output_data/City Latitude vs. Max Temperature.png')\n",
    "plt.show()\n"
   ]
  },
  {
   "cell_type": "code",
   "execution_count": null,
   "metadata": {},
   "outputs": [],
   "source": [
    "#As you get further from the equator in latitude, the temperature decreases. \n",
    "#Aso, The Northern Hemisphere is colder than the Southern Hemisphere, so it is winter in the Northern Hemisphere and summer in the Southern"
   ]
  },
  {
   "cell_type": "markdown",
   "metadata": {},
   "source": [
    "#### Latitude vs. Humidity Plot"
   ]
  },
  {
   "cell_type": "code",
   "execution_count": null,
   "metadata": {},
   "outputs": [],
   "source": []
  },
  {
   "cell_type": "code",
   "execution_count": 269,
   "metadata": {},
   "outputs": [
    {
     "data": {
      "image/png": "[encoded data removed]",
      "text/plain": [
       "<Figure size 432x288 with 1 Axes>"
      ]
     },
     "metadata": {
      "needs_background": "light"
     },
     "output_type": "display_data"
    }
   ],
   "source": [
    "plt.scatter(cities_weather[\"latitude\"], cities_weather[\"humidity\"], marker='o', facecolor=\"red\", edgecolor = \"black\")\n",
    "plt.title(\"City Latitude vs. Humidity\")\n",
    "plt.xlabel(\"Latitude\")\n",
    "plt.ylabel(\"Humidity (%)\")\n",
    "plt.grid()\n",
    "plt.savefig('output_data/City Latitude vs. Humidity.png')\n",
    "plt.show()"
   ]
  },
  {
   "cell_type": "code",
   "execution_count": null,
   "metadata": {},
   "outputs": [],
   "source": [
    "#There is no relationship between latitude and humidity."
   ]
  },
  {
   "cell_type": "markdown",
   "metadata": {},
   "source": [
    "#### Latitude vs. Cloudiness Plot"
   ]
  },
  {
   "cell_type": "code",
   "execution_count": 270,
   "metadata": {},
   "outputs": [
    {
     "data": {
      "image/png": "[encoded data removed]",
      "text/plain": [
       "<Figure size 432x288 with 1 Axes>"
      ]
     },
     "metadata": {
      "needs_background": "light"
     },
     "output_type": "display_data"
    }
   ],
   "source": [
    "plt.scatter(cities_weather[\"latitude\"], cities_weather[\"cloudiness\"], marker='o', facecolor=\"red\", edgecolor = \"black\")\n",
    "plt.title(\"City Latitude vs. Cloudiness\")\n",
    "plt.xlabel(\"Latitude\")\n",
    "plt.ylabel(\"Cloudiness (%)\")\n",
    "plt.grid()\n",
    "plt.savefig('output_data/City Latitude vs. Cloudiness.png')\n",
    "plt.show()"
   ]
  },
  {
   "cell_type": "code",
   "execution_count": null,
   "metadata": {},
   "outputs": [],
   "source": [
    "#There is no relationship between latitude and cloudiness."
   ]
  },
  {
   "cell_type": "markdown",
   "metadata": {},
   "source": [
    "#### Latitude vs. Wind Speed Plot"
   ]
  },
  {
   "cell_type": "code",
   "execution_count": 271,
   "metadata": {},
   "outputs": [
    {
     "data": {
      "image/png": "[encoded data removed]",
      "text/plain": [
       "<Figure size 432x288 with 1 Axes>"
      ]
     },
     "metadata": {
      "needs_background": "light"
     },
     "output_type": "display_data"
    }
   ],
   "source": [
    "plt.scatter(cities_weather[\"latitude\"], cities_weather[\"wind speed\"], marker='o', facecolor=\"red\", edgecolor = \"black\")\n",
    "plt.title(\"City Latitude vs. Wind Speed\")\n",
    "plt.xlabel(\"Latitude\")\n",
    "plt.ylabel(\"Wind Speed (mph)\")\n",
    "plt.grid()\n",
    "plt.savefig('output_data/City Latitude vs. Wind Speed.png')\n",
    "plt.show()"
   ]
  },
  {
   "cell_type": "code",
   "execution_count": null,
   "metadata": {},
   "outputs": [],
   "source": [
    "#Strong wind is rare, and wind speed mostly ranges from 0 to 15 mph."
   ]
  },
  {
   "cell_type": "markdown",
   "metadata": {},
   "source": [
    "## Linear Regression"
   ]
  },
  {
   "cell_type": "code",
   "execution_count": 272,
   "metadata": {},
   "outputs": [],
   "source": [
    "# OPTIONAL: Create a function to create Linear Regression plots\n",
    "def polyfit(x, y, degree):\n",
    "    results = {}\n",
    "\n",
    "    coeffs = np.polyfit(x, y, degree)\n",
    "     # Polynomial Coefficients\n",
    "    results['polynomial'] = coeffs.tolist()\n",
    "\n",
    "    correlation = np.corrcoef(x, y)[0,1]\n",
    "\n",
    "     # r\n",
    "    results['correlation'] = correlation\n",
    "     # r-squared\n",
    "    results['determination'] = correlation**2\n",
    "\n",
    "    return results['determination']\n",
    "\n",
    "def linear_regression(x,y,subtitle, xlabel, ylabel):\n",
    "   \n",
    "    (slope, intercept, _, _, _) = linregress(x, y)\n",
    "    fit = slope * x + intercept\n",
    "\n",
    "    fig, ax = plt.subplots()\n",
    "    \n",
    "    fig.suptitle(subtitle, fontsize=12, fontweight=\"bold\")\n",
    "    r2=polyfit(x,y,1)\n",
    "    print(f\"The r-squared is: {r2}\")\n",
    "    ax.set_xlabel(xlabel)\n",
    "    ax.set_ylabel(ylabel)\n",
    "    ax.plot(x, y, linewidth=0, marker='o')\n",
    "    ax.plot(x, fit, 'r--')\n",
    "\n",
    "    plt.grid()\n",
    "    \n",
    "    if (os.path.exists(\"output_data\")==False):\n",
    "        os.mkdir('output_data')\n",
    "    plt.savefig('output_data/'+subtitle+'.png')\n",
    "    \n",
    "    plt.show() \n",
    "    "
   ]
  },
  {
   "cell_type": "code",
   "execution_count": 273,
   "metadata": {},
   "outputs": [
    {
     "data": {
      "text/html": [
       "<div>\n",
       "<style scoped>\n",
       "    .dataframe tbody tr th:only-of-type {\n",
       "        vertical-align: middle;\n",
       "    }\n",
       "\n",
       "    .dataframe tbody tr th {\n",
       "        vertical-align: top;\n",
       "    }\n",
       "\n",
       "    .dataframe thead th {\n",
       "        text-align: right;\n",
       "    }\n",
       "</style>\n",
       "<table border=\"1\" class=\"dataframe\">\n",
       "  <thead>\n",
       "    <tr style=\"text-align: right;\">\n",
       "      <th></th>\n",
       "      <th>city name</th>\n",
       "      <th>country</th>\n",
       "      <th>date</th>\n",
       "      <th>latitude</th>\n",
       "      <th>max temperature</th>\n",
       "      <th>humidity</th>\n",
       "      <th>cloudiness</th>\n",
       "      <th>wind speed</th>\n",
       "    </tr>\n",
       "  </thead>\n",
       "  <tbody>\n",
       "    <tr>\n",
       "      <th>0</th>\n",
       "      <td>New Norfolk</td>\n",
       "      <td>AU</td>\n",
       "      <td>1578261797</td>\n",
       "      <td>-42.78</td>\n",
       "      <td>62.01</td>\n",
       "      <td>58</td>\n",
       "      <td>20</td>\n",
       "      <td>3.36</td>\n",
       "    </tr>\n",
       "    <tr>\n",
       "      <th>1</th>\n",
       "      <td>Monte Alegre</td>\n",
       "      <td>BR</td>\n",
       "      <td>1578261797</td>\n",
       "      <td>-2.00</td>\n",
       "      <td>85.89</td>\n",
       "      <td>62</td>\n",
       "      <td>80</td>\n",
       "      <td>2.55</td>\n",
       "    </tr>\n",
       "    <tr>\n",
       "      <th>2</th>\n",
       "      <td>Airai</td>\n",
       "      <td>TL</td>\n",
       "      <td>1578261797</td>\n",
       "      <td>-8.93</td>\n",
       "      <td>69.42</td>\n",
       "      <td>84</td>\n",
       "      <td>100</td>\n",
       "      <td>5.26</td>\n",
       "    </tr>\n",
       "    <tr>\n",
       "      <th>3</th>\n",
       "      <td>Castro</td>\n",
       "      <td>CL</td>\n",
       "      <td>1578261797</td>\n",
       "      <td>-42.48</td>\n",
       "      <td>57.20</td>\n",
       "      <td>62</td>\n",
       "      <td>75</td>\n",
       "      <td>14.99</td>\n",
       "    </tr>\n",
       "    <tr>\n",
       "      <th>4</th>\n",
       "      <td>Te Anau</td>\n",
       "      <td>NZ</td>\n",
       "      <td>1578261798</td>\n",
       "      <td>-45.41</td>\n",
       "      <td>43.75</td>\n",
       "      <td>83</td>\n",
       "      <td>52</td>\n",
       "      <td>16.42</td>\n",
       "    </tr>\n",
       "    <tr>\n",
       "      <th>...</th>\n",
       "      <td>...</td>\n",
       "      <td>...</td>\n",
       "      <td>...</td>\n",
       "      <td>...</td>\n",
       "      <td>...</td>\n",
       "      <td>...</td>\n",
       "      <td>...</td>\n",
       "      <td>...</td>\n",
       "    </tr>\n",
       "    <tr>\n",
       "      <th>168</th>\n",
       "      <td>Ahipara</td>\n",
       "      <td>NZ</td>\n",
       "      <td>1578261850</td>\n",
       "      <td>-35.17</td>\n",
       "      <td>66.00</td>\n",
       "      <td>100</td>\n",
       "      <td>100</td>\n",
       "      <td>1.99</td>\n",
       "    </tr>\n",
       "    <tr>\n",
       "      <th>169</th>\n",
       "      <td>Payo</td>\n",
       "      <td>ID</td>\n",
       "      <td>1578261850</td>\n",
       "      <td>-3.75</td>\n",
       "      <td>68.86</td>\n",
       "      <td>98</td>\n",
       "      <td>100</td>\n",
       "      <td>1.43</td>\n",
       "    </tr>\n",
       "    <tr>\n",
       "      <th>170</th>\n",
       "      <td>Margate</td>\n",
       "      <td>AU</td>\n",
       "      <td>1578261850</td>\n",
       "      <td>-43.03</td>\n",
       "      <td>62.01</td>\n",
       "      <td>58</td>\n",
       "      <td>20</td>\n",
       "      <td>3.36</td>\n",
       "    </tr>\n",
       "    <tr>\n",
       "      <th>171</th>\n",
       "      <td>Lekoni</td>\n",
       "      <td>GA</td>\n",
       "      <td>1578261850</td>\n",
       "      <td>-1.58</td>\n",
       "      <td>79.03</td>\n",
       "      <td>60</td>\n",
       "      <td>84</td>\n",
       "      <td>1.25</td>\n",
       "    </tr>\n",
       "    <tr>\n",
       "      <th>172</th>\n",
       "      <td>Wewak</td>\n",
       "      <td>PG</td>\n",
       "      <td>1578261850</td>\n",
       "      <td>-3.55</td>\n",
       "      <td>77.22</td>\n",
       "      <td>86</td>\n",
       "      <td>100</td>\n",
       "      <td>3.04</td>\n",
       "    </tr>\n",
       "  </tbody>\n",
       "</table>\n",
       "<p>173 rows × 8 columns</p>\n",
       "</div>"
      ],
      "text/plain": [
       "        city name country        date  latitude  max temperature  humidity  \\\n",
       "0     New Norfolk      AU  1578261797    -42.78            62.01        58   \n",
       "1    Monte Alegre      BR  1578261797     -2.00            85.89        62   \n",
       "2           Airai      TL  1578261797     -8.93            69.42        84   \n",
       "3          Castro      CL  1578261797    -42.48            57.20        62   \n",
       "4         Te Anau      NZ  1578261798    -45.41            43.75        83   \n",
       "..            ...     ...         ...       ...              ...       ...   \n",
       "168       Ahipara      NZ  1578261850    -35.17            66.00       100   \n",
       "169          Payo      ID  1578261850     -3.75            68.86        98   \n",
       "170       Margate      AU  1578261850    -43.03            62.01        58   \n",
       "171        Lekoni      GA  1578261850     -1.58            79.03        60   \n",
       "172         Wewak      PG  1578261850     -3.55            77.22        86   \n",
       "\n",
       "     cloudiness  wind speed  \n",
       "0            20        3.36  \n",
       "1            80        2.55  \n",
       "2           100        5.26  \n",
       "3            75       14.99  \n",
       "4            52       16.42  \n",
       "..          ...         ...  \n",
       "168         100        1.99  \n",
       "169         100        1.43  \n",
       "170          20        3.36  \n",
       "171          84        1.25  \n",
       "172         100        3.04  \n",
       "\n",
       "[173 rows x 8 columns]"
      ]
     },
     "execution_count": 273,
     "metadata": {},
     "output_type": "execute_result"
    }
   ],
   "source": [
    "# Create Northern and Southern Hemisphere DataFrames\n",
    "northen_hem = cities_weather.loc[cities_weather[\"latitude\"]>=0, :]\n",
    "northen_hem.reset_index(drop=True)\n",
    "\n",
    "southern_hem = cities_weather.loc[cities_weather[\"latitude\"]<0, :]\n",
    "southern_hem.reset_index(drop=True)"
   ]
  },
  {
   "cell_type": "markdown",
   "metadata": {},
   "source": [
    "####  Northern Hemisphere - Max Temp vs. Latitude Linear Regression"
   ]
  },
  {
   "cell_type": "code",
   "execution_count": 274,
   "metadata": {
    "scrolled": true
   },
   "outputs": [
    {
     "name": "stdout",
     "output_type": "stream",
     "text": [
      "The r-squared is: 0.7725986722501563\n"
     ]
    },
    {
     "data": {
      "image/png": "[encoded data removed]",
      "text/plain": [
       "<Figure size 432x288 with 1 Axes>"
      ]
     },
     "metadata": {
      "needs_background": "light"
     },
     "output_type": "display_data"
    }
   ],
   "source": [
    "\n",
    "linear_regression(northen_hem[\"latitude\"],northen_hem[\"max temperature\"],\n",
    "                  \"Northern Hemisphere - City Latitude vs. Max Temperature\", \"Latitude\", \"Max Temperature (F)\")\n"
   ]
  },
  {
   "cell_type": "code",
   "execution_count": null,
   "metadata": {},
   "outputs": [],
   "source": [
    "#There is strong negative correlation berween max temperature and latitude in the Northern Hemisphere."
   ]
  },
  {
   "cell_type": "markdown",
   "metadata": {},
   "source": [
    "####  Southern Hemisphere - Max Temp vs. Latitude Linear Regression"
   ]
  },
  {
   "cell_type": "code",
   "execution_count": 275,
   "metadata": {
    "scrolled": true
   },
   "outputs": [
    {
     "name": "stdout",
     "output_type": "stream",
     "text": [
      "The r-squared is: 0.28824214134989884\n"
     ]
    },
    {
     "data": {
      "image/png": "[encoded data removed]",
      "text/plain": [
       "<Figure size 432x288 with 1 Axes>"
      ]
     },
     "metadata": {
      "needs_background": "light"
     },
     "output_type": "display_data"
    }
   ],
   "source": [
    "\n",
    "linear_regression(southern_hem[\"latitude\"],southern_hem[\"max temperature\"],\n",
    "                 \"Southern Hemisphere - City Latitude vs. Max Temperature\", \"Latitude\", \"Max Temperature (F)\" )\n"
   ]
  },
  {
   "cell_type": "code",
   "execution_count": null,
   "metadata": {},
   "outputs": [],
   "source": [
    "#There is weak positive correlation berween max temperature and latitude in the Southern Hemisphere."
   ]
  },
  {
   "cell_type": "markdown",
   "metadata": {},
   "source": [
    "####  Northern Hemisphere - Humidity (%) vs. Latitude Linear Regression"
   ]
  },
  {
   "cell_type": "code",
   "execution_count": 276,
   "metadata": {
    "scrolled": true
   },
   "outputs": [
    {
     "name": "stdout",
     "output_type": "stream",
     "text": [
      "The r-squared is: 0.14131318815705118\n"
     ]
    },
    {
     "data": {
      "image/png": "[encoded data removed]",
      "text/plain": [
       "<Figure size 432x288 with 1 Axes>"
      ]
     },
     "metadata": {
      "needs_background": "light"
     },
     "output_type": "display_data"
    }
   ],
   "source": [
    "\n",
    "linear_regression(northen_hem[\"latitude\"],northen_hem[\"humidity\"],\n",
    "                 \"Northern Hemisphere - City Latitude vs. Humidity(%)\",\"Latitude\", \"Humidity(%)\")\n"
   ]
  },
  {
   "cell_type": "code",
   "execution_count": null,
   "metadata": {},
   "outputs": [],
   "source": [
    "#There almost no correlation between latitude and humidity in the Nothern Hemisphere"
   ]
  },
  {
   "cell_type": "markdown",
   "metadata": {},
   "source": [
    "####  Southern Hemisphere - Humidity (%) vs. Latitude Linear Regression"
   ]
  },
  {
   "cell_type": "code",
   "execution_count": 277,
   "metadata": {
    "scrolled": true
   },
   "outputs": [
    {
     "name": "stdout",
     "output_type": "stream",
     "text": [
      "The r-squared is: 0.12805592183683331\n"
     ]
    },
    {
     "data": {
      "image/png": "[encoded data removed]",
      "text/plain": [
       "<Figure size 432x288 with 1 Axes>"
      ]
     },
     "metadata": {
      "needs_background": "light"
     },
     "output_type": "display_data"
    }
   ],
   "source": [
    "linear_regression(southern_hem[\"latitude\"],southern_hem[\"humidity\"],\n",
    "                 \"Southern Hemisphere - City Latitude vs. Humidity(%)\",\"Latitude\", \"Humidity(%)\")"
   ]
  },
  {
   "cell_type": "code",
   "execution_count": null,
   "metadata": {},
   "outputs": [],
   "source": [
    "#There little correlation between latitude and humidity in the Southern Hemisphere"
   ]
  },
  {
   "cell_type": "markdown",
   "metadata": {},
   "source": [
    "####  Northern Hemisphere - Cloudiness (%) vs. Latitude Linear Regression"
   ]
  },
  {
   "cell_type": "code",
   "execution_count": 278,
   "metadata": {},
   "outputs": [
    {
     "name": "stdout",
     "output_type": "stream",
     "text": [
      "The r-squared is: 0.061795617710869014\n"
     ]
    },
    {
     "data": {
      "image/png": "[encoded data removed]",
      "text/plain": [
       "<Figure size 432x288 with 1 Axes>"
      ]
     },
     "metadata": {
      "needs_background": "light"
     },
     "output_type": "display_data"
    }
   ],
   "source": [
    "linear_regression(northen_hem[\"latitude\"],northen_hem[\"cloudiness\"],\n",
    "                 \"Northern Hemisphere - City Latitude vs. Cloudiness(%)\",\"Latitude\", \"Cloudiness(%)\")"
   ]
  },
  {
   "cell_type": "code",
   "execution_count": null,
   "metadata": {},
   "outputs": [],
   "source": [
    "#There is no correlation between latitude and cloudiness in the Northern Hemisphere.\n",
    "#Cloudiness is mostly either close to 0% or 100%."
   ]
  },
  {
   "cell_type": "markdown",
   "metadata": {},
   "source": [
    "####  Southern Hemisphere - Cloudiness (%) vs. Latitude Linear Regression"
   ]
  },
  {
   "cell_type": "code",
   "execution_count": 279,
   "metadata": {},
   "outputs": [
    {
     "name": "stdout",
     "output_type": "stream",
     "text": [
      "The r-squared is: 0.04781920961726912\n"
     ]
    },
    {
     "data": {
      "image/png": "[encoded data removed]",
      "text/plain": [
       "<Figure size 432x288 with 1 Axes>"
      ]
     },
     "metadata": {
      "needs_background": "light"
     },
     "output_type": "display_data"
    }
   ],
   "source": [
    "linear_regression(southern_hem[\"latitude\"],southern_hem[\"cloudiness\"],\n",
    "                 \"Southern Hemisphere - City Latitude vs. Cloudiness(%)\",\"Latitude\", \"Cloudiness(%)\")"
   ]
  },
  {
   "cell_type": "code",
   "execution_count": null,
   "metadata": {},
   "outputs": [],
   "source": [
    "#There is no correlation between latitude and cloudiness in the Southern Hemisphere."
   ]
  },
  {
   "cell_type": "markdown",
   "metadata": {},
   "source": [
    "####  Northern Hemisphere - Wind Speed (mph) vs. Latitude Linear Regression"
   ]
  },
  {
   "cell_type": "code",
   "execution_count": 280,
   "metadata": {
    "scrolled": true
   },
   "outputs": [
    {
     "name": "stdout",
     "output_type": "stream",
     "text": [
      "The r-squared is: 0.00497911939134601\n"
     ]
    },
    {
     "data": {
      "image/png": "[encoded data removed]",
      "text/plain": [
       "<Figure size 432x288 with 1 Axes>"
      ]
     },
     "metadata": {
      "needs_background": "light"
     },
     "output_type": "display_data"
    }
   ],
   "source": [
    "linear_regression(northen_hem[\"latitude\"], northen_hem[\"wind speed\"],\n",
    "                 \"Northen Hemisphere - City Latitude vs. Wind Speed (mph)\",\"Latitude\", \"Wind Speed (mph)\")"
   ]
  },
  {
   "cell_type": "code",
   "execution_count": null,
   "metadata": {},
   "outputs": [],
   "source": [
    "#There is no correlation between latitude and wind speed in the Northern Hemisphere.\n",
    "#Most winds are up to 10 mph."
   ]
  },
  {
   "cell_type": "markdown",
   "metadata": {},
   "source": [
    "####  Southern Hemisphere - Wind Speed (mph) vs. Latitude Linear Regression"
   ]
  },
  {
   "cell_type": "code",
   "execution_count": 281,
   "metadata": {
    "scrolled": true
   },
   "outputs": [
    {
     "name": "stdout",
     "output_type": "stream",
     "text": [
      "The r-squared is: 0.16440366361131004\n"
     ]
    },
    {
     "data": {
      "image/png": "[encoded data removed]",
      "text/plain": [
       "<Figure size 432x288 with 1 Axes>"
      ]
     },
     "metadata": {
      "needs_background": "light"
     },
     "output_type": "display_data"
    }
   ],
   "source": [
    "linear_regression(southern_hem[\"latitude\"],southern_hem[\"wind speed\"],\n",
    "                 \"Southern Hemisphere - City Latitude vs. Wind Speed (mph)\",\"Latitude\", \"Wind Speed (mph)\")"
   ]
  },
  {
   "cell_type": "code",
   "execution_count": null,
   "metadata": {},
   "outputs": [],
   "source": [
    "#There is weak negative correlation between latitude and wind speed in the Southern Hemisphere."
   ]
  },
  {
   "cell_type": "code",
   "execution_count": null,
   "metadata": {},
   "outputs": [],
   "source": []
  }
 ],
 "metadata": {
  "anaconda-cloud": {},
  "kernel_info": {
   "name": "python3"
  },
  "kernelspec": {
   "display_name": "Python 3",
   "language": "python",
   "name": "python3"
  },
  "language_info": {
   "codemirror_mode": {
    "name": "ipython",
    "version": 3
   },
   "file_extension": ".py",
   "mimetype": "text/x-python",
   "name": "python",
   "nbconvert_exporter": "python",
   "pygments_lexer": "ipython3",
   "version": "3.7.4"
  },
  "latex_envs": {
   "LaTeX_envs_menu_present": true,
   "autoclose": false,
   "autocomplete": true,
   "bibliofile": "biblio.bib",
   "cite_by": "apalike",
   "current_citInitial": 1,
   "eqLabelWithNumbers": true,
   "eqNumInitial": 1,
   "hotkeys": {
    "equation": "Ctrl-E",
    "itemize": "Ctrl-I"
   },
   "labels_anchors": false,
   "latex_user_defs": false,
   "report_style_numbering": false,
   "user_envs_cfg": false
  },
  "nteract": {
   "version": "0.12.3"
  }
 },
 "nbformat": 4,
 "nbformat_minor": 2
}
